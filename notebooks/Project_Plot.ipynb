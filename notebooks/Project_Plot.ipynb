{
 "cells": [
  {
   "cell_type": "code",
   "execution_count": null,
   "source": [
    "import pandas as pd\r\n",
    "import matplotlib.pyplot as plt\r\n",
    "import numpy as np\r\n",
    "import datetime"
   ],
   "outputs": [],
   "metadata": {}
  },
  {
   "cell_type": "markdown",
   "source": [
    "# Merge"
   ],
   "metadata": {}
  },
  {
   "cell_type": "code",
   "execution_count": null,
   "source": [
    "filePath = \"C:/Users/NT/Desktop/td3/\"\r\n",
    "fileName = \"df_account_value_\""
   ],
   "outputs": [],
   "metadata": {}
  },
  {
   "cell_type": "code",
   "execution_count": null,
   "source": [
    "now = datetime.datetime.now().strftime(\"%Y%m%d_%Hh%M\")\r\n",
    "now"
   ],
   "outputs": [],
   "metadata": {}
  },
  {
   "cell_type": "code",
   "execution_count": null,
   "source": [
    "fileName_list=[]\r\n",
    "for i in range(126, 630, 63):\r\n",
    "    fileName_list.append(filePath + fileName + \"_\" + str(i) + '.csv')\r\n",
    "fileName_list"
   ],
   "outputs": [],
   "metadata": {}
  },
  {
   "cell_type": "code",
   "execution_count": null,
   "source": [
    "combined_csv = pd.concat( [ pd.read_csv(f) for f in fileName_list ] )"
   ],
   "outputs": [],
   "metadata": {}
  },
  {
   "cell_type": "code",
   "execution_count": null,
   "source": [
    "combined_csv.to_csv(filePath + fileName + now + \".csv\", index=False)"
   ],
   "outputs": [],
   "metadata": {}
  },
  {
   "cell_type": "markdown",
   "source": [
    "# Plot"
   ],
   "metadata": {}
  },
  {
   "cell_type": "code",
   "execution_count": null,
   "source": [
    "df_td3 = pd.read_csv(filePath + \"df_account_value_td3.csv\")\r\n",
    "df_sac = pd.read_csv(filePath + \"df_account_value_sac.csv\")\r\n",
    "df_a2c = pd.read_csv(filePath + \"df_account_value_a2c.csv\")\r\n",
    "df_ppo = pd.read_csv(filePath + \"df_account_value_ppo.csv\")\r\n",
    "df_ddpg = pd.read_csv(filePath + \"df_account_value_ddpg.csv\")"
   ],
   "outputs": [],
   "metadata": {}
  },
  {
   "cell_type": "code",
   "execution_count": null,
   "source": [
    "df_historical_data = pd.read_csv(filePath + \"historical_change.csv\")\r\n",
    "df_historical_data"
   ],
   "outputs": [],
   "metadata": {}
  },
  {
   "cell_type": "code",
   "execution_count": null,
   "source": [
    "df_historical_change = df_historical_data[['date', 'change']]\r\n",
    "df_historical_change['change'] = df_historical_change['change'].str.replace('%', '').astype('float')\r\n",
    "df_historical_change"
   ],
   "outputs": [],
   "metadata": {}
  },
  {
   "cell_type": "code",
   "execution_count": null,
   "source": [
    "df_historical_change['date'] = pd.to_datetime(df_historical_change['date'])\r\n",
    "df_historical_change"
   ],
   "outputs": [],
   "metadata": {}
  },
  {
   "cell_type": "code",
   "execution_count": null,
   "source": [
    "df_historical_change.dtypes"
   ],
   "outputs": [],
   "metadata": {}
  },
  {
   "cell_type": "code",
   "execution_count": null,
   "source": [
    "df_historical_change.set_index(['date'], inplace=True)\r\n",
    "df_historical_change"
   ],
   "outputs": [],
   "metadata": {}
  },
  {
   "cell_type": "code",
   "execution_count": null,
   "source": [
    "df_td3['date'] = pd.to_datetime(df_td3['date'])\r\n",
    "df_sac['date'] = pd.to_datetime(df_sac['date'])\r\n",
    "df_a2c['date'] = pd.to_datetime(df_a2c['date'])\r\n",
    "df_ppo['date'] = pd.to_datetime(df_ppo['date'])\r\n",
    "df_ddpg['date'] = pd.to_datetime(df_ddpg['date'])"
   ],
   "outputs": [],
   "metadata": {}
  },
  {
   "cell_type": "code",
   "execution_count": null,
   "source": [
    "df_td3 = df_td3.loc[:, ~df_td3.columns.str.contains('^Unnamed')]\r\n",
    "df_sac = df_sac.loc[:, ~df_sac.columns.str.contains('^Unnamed')]\r\n",
    "df_a2c = df_a2c.loc[:, ~df_a2c.columns.str.contains('^Unnamed')]\r\n",
    "df_ppo = df_ppo.loc[:, ~df_ppo.columns.str.contains('^Unnamed')]\r\n",
    "df_ddpg = df_ddpg.loc[:, ~df_ddpg.columns.str.contains('^Unnamed')]"
   ],
   "outputs": [],
   "metadata": {}
  },
  {
   "cell_type": "code",
   "execution_count": null,
   "source": [
    "df_td3.set_index(['date'], inplace=True)\r\n",
    "df_sac.set_index(['date'], inplace=True)\r\n",
    "df_a2c.set_index(['date'], inplace=True)\r\n",
    "df_ppo.set_index(['date'], inplace=True)\r\n",
    "df_ddpg.set_index(['date'], inplace=True)"
   ],
   "outputs": [],
   "metadata": {}
  },
  {
   "cell_type": "code",
   "execution_count": null,
   "source": [
    "initial_value = 100000000.0"
   ],
   "outputs": [],
   "metadata": {}
  },
  {
   "cell_type": "code",
   "execution_count": null,
   "source": [
    "df_td3['td3'] = (df_td3['account_value'] - initial_value) / initial_value\r\n",
    "df_ddpg['ddpg'] = (df_ddpg['account_value'] - initial_value) / initial_value\r\n",
    "df_sac['sac'] = (df_sac['account_value'] - initial_value) / initial_value\r\n",
    "df_a2c['a2c'] = (df_a2c['account_value'] - initial_value) / initial_value\r\n",
    "df_ppo['ppo'] = (df_ppo['account_value'] - initial_value) / initial_value"
   ],
   "outputs": [],
   "metadata": {}
  },
  {
   "cell_type": "code",
   "execution_count": null,
   "source": [
    "df_ppo"
   ],
   "outputs": [],
   "metadata": {}
  },
  {
   "cell_type": "code",
   "execution_count": null,
   "source": [
    "df_td3['daily_return_td3'] = df_td3['daily_return_td3'].fillna(0)\r\n",
    "df_sac['daily_return_sac'] = df_sac['daily_return_sac'].fillna(0)\r\n",
    "df_a2c['daily_return_a2c'] = df_a2c['daily_return_a2c'].fillna(0)\r\n",
    "df_ppo['daily_return_ppo'] = df_ppo['daily_return_ppo'].fillna(0)\r\n",
    "df_ddpg['daily_return_ppo'] = df_ddpg['daily_return_ppo'].fillna(0)"
   ],
   "outputs": [],
   "metadata": {}
  },
  {
   "cell_type": "code",
   "execution_count": null,
   "source": [
    "df_change = pd.concat([df_td3[['td3']], df_sac[['sac']], df_a2c[['a2c']], df_ppo[['ppo']], df_ddpg['ddpg'], df_historical_change['change']], axis=1)\r\n",
    "df_change"
   ],
   "outputs": [],
   "metadata": {
    "code_folding": [],
    "scrolled": false
   }
  },
  {
   "cell_type": "code",
   "execution_count": null,
   "source": [
    "df = pd.concat([df_td3[['td3']], df_sac[['sac']], df_a2c[['a2c']], df_ppo[['ppo']], df_ddpg['ddpg']], axis=1)\r\n",
    "df"
   ],
   "outputs": [],
   "metadata": {}
  },
  {
   "cell_type": "code",
   "execution_count": null,
   "source": [
    "df.plot(kind='line', figsize=(20, 10))\r\n",
    "plt.axhline(y = 0, color = '#00ff00', linestyle = 'dashed', alpha = 1)\r\n",
    "plt.xlabel(\"Date\")\r\n",
    "plt.ylabel(\"Daily Return\")\r\n",
    "plt.legend(['TD3', 'SAC', 'A2C', 'PPO', 'DDPG'])\r\n",
    "plt.grid()\r\n",
    "plt.savefig(filePath + 'perf_all_algorithms.png')\r\n",
    "plt.show()"
   ],
   "outputs": [],
   "metadata": {}
  },
  {
   "cell_type": "code",
   "execution_count": null,
   "source": [
    "ax = df.plot(kind='line', figsize=(20, 10))\r\n",
    "df_historical_change.plot(ax = ax, kind='line', alpha=0.5)\r\n",
    "plt.axhline(y = 0, color = '#00ff00', linestyle = 'dashed', alpha = 1)\r\n",
    "plt.xlabel(\"Date\")\r\n",
    "plt.ylabel(\"Daily Return\")\r\n",
    "plt.legend(['TD3', 'SAC', 'A2C', 'PPO', 'DDPG', 'VN30'])\r\n",
    "plt.grid()\r\n",
    "plt.savefig(filePath + 'perf_all_algorithms_vs_VN30.png')\r\n",
    "plt.show()"
   ],
   "outputs": [],
   "metadata": {}
  },
  {
   "cell_type": "code",
   "execution_count": null,
   "source": [
    "df_ensemble = pd.read_csv(filePath + \"account_value_trade_ensemble.csv\")\r\n",
    "df_ensemble"
   ],
   "outputs": [],
   "metadata": {}
  },
  {
   "cell_type": "code",
   "execution_count": null,
   "source": [
    "df_ensemble.set_index(['date'], inplace=True)\r\n",
    "df_ensemble"
   ],
   "outputs": [],
   "metadata": {}
  },
  {
   "cell_type": "code",
   "execution_count": null,
   "source": [
    "df_ensemble_plot = df_ensemble[['daily_return']]\r\n",
    "df_ensemble_plot.reset_index(inplace=True)\r\n",
    "df_ensemble_plot['date'] = pd.to_datetime(df_ensemble_plot['date'])\r\n",
    "df_ensemble_plot.set_index(['date'], inplace=True)\r\n",
    "df_ensemble_plot"
   ],
   "outputs": [],
   "metadata": {}
  },
  {
   "cell_type": "code",
   "execution_count": null,
   "source": [
    "df_historical_change.dtypes"
   ],
   "outputs": [],
   "metadata": {}
  },
  {
   "cell_type": "code",
   "execution_count": null,
   "source": [
    "df_ensemble_change = pd.concat([df_ensemble_plot, df_historical_change], axis=1, join='inner')\r\n",
    "df_ensemble_change"
   ],
   "outputs": [],
   "metadata": {}
  },
  {
   "cell_type": "code",
   "execution_count": null,
   "source": [
    "df_ensemble_change.plot(kind='line', figsize=(20, 10))"
   ],
   "outputs": [],
   "metadata": {}
  },
  {
   "cell_type": "code",
   "execution_count": null,
   "source": [
    "df_ensemble_plot.plot(kind='line', figsize=(20, 10))"
   ],
   "outputs": [],
   "metadata": {}
  },
  {
   "cell_type": "code",
   "execution_count": null,
   "source": [],
   "outputs": [],
   "metadata": {}
  }
 ],
 "metadata": {
  "kernelspec": {
   "display_name": "Python 3",
   "language": "python",
   "name": "python3"
  },
  "language_info": {
   "codemirror_mode": {
    "name": "ipython",
    "version": 3
   },
   "file_extension": ".py",
   "mimetype": "text/x-python",
   "name": "python",
   "nbconvert_exporter": "python",
   "pygments_lexer": "ipython3",
   "version": "3.8.8"
  },
  "toc": {
   "base_numbering": 1,
   "nav_menu": {},
   "number_sections": true,
   "sideBar": true,
   "skip_h1_title": false,
   "title_cell": "Table of Contents",
   "title_sidebar": "Contents",
   "toc_cell": false,
   "toc_position": {},
   "toc_section_display": true,
   "toc_window_display": false
  }
 },
 "nbformat": 4,
 "nbformat_minor": 5
}